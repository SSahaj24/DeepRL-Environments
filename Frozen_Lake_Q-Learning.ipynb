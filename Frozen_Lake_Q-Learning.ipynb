{
 "cells": [
  {
   "cell_type": "code",
   "execution_count": 46,
   "metadata": {},
   "outputs": [],
   "source": [
    "import gymnasium as gym\n",
    "import random\n",
    "import numpy as np\n",
    "import matplotlib.pyplot as plt\n",
    "\n",
    "\n",
    "#def test_run(test_env,Q_table):"
   ]
  },
  {
   "cell_type": "code",
   "execution_count": 47,
   "metadata": {},
   "outputs": [],
   "source": [
    "\n",
    "env = gym.make('FrozenLake8x8-v1') #Returns an instance of the environment with wrappers applied.\n",
    "#test_env = gym.make('FrozenLake8x8-v1')\n",
    "test_env = gym.make('FrozenLake8x8-v1',render_mode=\"human\")\n",
    "test_env.metadata['render_fps']=15"
   ]
  },
  {
   "cell_type": "code",
   "execution_count": 48,
   "metadata": {},
   "outputs": [],
   "source": [
    "Q_table = np.zeros([env.observation_space.n,env.action_space.n]) # Observation Space = 16, Action Space = 4\n",
    "\n",
    "epsilon = 1 # Agent explores with probability epsilon and exploits with probability (1-epsilon)\n",
    "epsilon_decay = 0.0001 # Decaying epsilon to favor exploitation later on\n",
    "alpha = 0.1 # learning rate\n",
    "discount_factor = 0.99   # In frozen lake, we only have a reward at the end; so immediate rewards don't matter; so don't discount later rewards\n",
    "episodes = 10000\n",
    "\n",
    "# List of outcomes to plot\n",
    "outcomes = []"
   ]
  },
  {
   "cell_type": "code",
   "execution_count": 49,
   "metadata": {},
   "outputs": [],
   "source": [
    "for run in range(episodes):\n",
    "    state = env.reset()[0]\n",
    "\n",
    "    terminated = truncated = False\n",
    "\n",
    "    outcomes.append(\"Failure\")\n",
    "\n",
    "    while(not (terminated or truncated)):\n",
    "        random_sample=random.uniform(0,1)\n",
    "\n",
    "        if epsilon>random_sample:\n",
    "            action = env.action_space.sample()  # (E) exploration\n",
    "        else:\n",
    "            action = np.argmax(Q_table[state]) # (1-E) exploitation\n",
    "\n",
    "        next_state, reward, terminated, truncated, info = env.step(action)\n",
    "\n",
    "        prev_q = Q_table[state, action]\n",
    "        next_max_q = np.max(Q_table[next_state])\n",
    "        new_q = (1-alpha)*prev_q + alpha * (reward + discount_factor * next_max_q)\n",
    "        Q_table[state, action] = new_q\n",
    "        state = next_state\n",
    "        \n",
    "        if reward:\n",
    "          outcomes[-1] = \"Success\"\n",
    "    \n",
    "    epsilon = max(epsilon - epsilon_decay, 0)\n",
    "\n",
    "\n",
    "#test_run(env,Q_table)"
   ]
  },
  {
   "cell_type": "code",
   "execution_count": 50,
   "metadata": {},
   "outputs": [],
   "source": [
    "k=0 # Success counter\n",
    "for run in range(100):\n",
    "    state = test_env.reset()[0]\n",
    "    terminated = truncated = False\n",
    "    sum=0\n",
    "    \n",
    "\n",
    "    while(not (terminated or truncated)):\n",
    "\n",
    "        action = np.argmax(Q_table[state])\n",
    "\n",
    "        next_state, reward, terminated, truncated, info = test_env.step(action)\n",
    "\n",
    "        state = next_state\n",
    "\n",
    "        sum+=reward\n",
    "    if sum==1:\n",
    "        k+=1"
   ]
  },
  {
   "cell_type": "code",
   "execution_count": null,
   "metadata": {},
   "outputs": [
    {
     "name": "stdout",
     "output_type": "stream",
     "text": [
      "\n",
      "Q_table : \n",
      "\n",
      " [[3.89439932e-01 3.91427797e-01 3.89047080e-01 3.89505483e-01]\n",
      " [3.98486589e-01 3.97549700e-01 3.98183271e-01 4.00276433e-01]\n",
      " [4.14266467e-01 4.14310542e-01 4.18988556e-01 4.14265774e-01]\n",
      " [4.34309072e-01 4.33367207e-01 4.34543162e-01 4.41105313e-01]\n",
      " [4.53677970e-01 4.53998054e-01 4.61189375e-01 4.53804679e-01]\n",
      " [4.75331914e-01 4.74391678e-01 4.95775524e-01 4.75367968e-01]\n",
      " [4.97727081e-01 4.96542233e-01 5.28448841e-01 4.96787764e-01]\n",
      " [5.01001260e-01 5.33294750e-01 5.01023175e-01 5.01095420e-01]\n",
      " [3.85451291e-01 3.86141764e-01 3.79078692e-01 3.86695324e-01]\n",
      " [3.90527296e-01 3.91382651e-01 3.90370728e-01 3.90341651e-01]\n",
      " [3.98550733e-01 4.03249681e-01 4.04669091e-01 4.12103936e-01]\n",
      " [2.50958591e-01 3.28842397e-01 2.73936099e-01 4.33631587e-01]\n",
      " [4.35757425e-01 4.33120548e-01 4.42976700e-01 4.54404259e-01]\n",
      " [4.64238896e-01 4.65093452e-01 4.64018703e-01 4.94572670e-01]\n",
      " [5.01395617e-01 5.02524744e-01 5.36881759e-01 5.02307809e-01]\n",
      " [5.09275659e-01 5.52387132e-01 5.09449116e-01 5.09574509e-01]\n",
      " [3.58822888e-01 3.57337622e-01 3.59394742e-01 3.77691061e-01]\n",
      " [3.56546642e-01 3.57113841e-01 3.53764706e-01 3.68039324e-01]\n",
      " [3.46503425e-01 1.47880801e-01 2.71765395e-01 2.60128117e-01]\n",
      " [0.00000000e+00 0.00000000e+00 0.00000000e+00 0.00000000e+00]\n",
      " [2.74802085e-01 2.22568693e-01 3.34822857e-01 3.16436399e-01]\n",
      " [2.87322544e-01 3.23714019e-01 3.64301593e-01 4.51643636e-01]\n",
      " [5.06828071e-01 5.06245849e-01 5.55495248e-01 5.03861934e-01]\n",
      " [5.34409689e-01 5.29053971e-01 5.70594332e-01 5.33671491e-01]\n",
      " [3.35472048e-01 3.33537393e-01 3.36635721e-01 3.51953212e-01]\n",
      " [3.40925411e-01 3.13793140e-01 3.16133463e-01 3.19714392e-01]\n",
      " [2.61149874e-01 2.08918190e-01 2.58993909e-01 2.94935029e-01]\n",
      " [1.20862094e-01 1.05348351e-01 3.14120504e-02 1.63104049e-01]\n",
      " [2.52451312e-01 1.07884460e-01 2.11052759e-01 2.02650596e-01]\n",
      " [0.00000000e+00 0.00000000e+00 0.00000000e+00 0.00000000e+00]\n",
      " [4.04814051e-01 2.69646833e-01 5.49040075e-01 4.24852146e-01]\n",
      " [5.70171907e-01 5.52485729e-01 6.12744193e-01 5.57412682e-01]\n",
      " [2.06231826e-01 2.30332757e-01 2.52201468e-01 3.14632742e-01]\n",
      " [2.18512483e-01 9.70883524e-02 1.28060287e-01 2.74641724e-01]\n",
      " [1.97047100e-01 9.78841075e-02 1.37441882e-01 9.00758465e-02]\n",
      " [0.00000000e+00 0.00000000e+00 0.00000000e+00 0.00000000e+00]\n",
      " [1.76112672e-01 1.63932175e-01 2.44018066e-01 1.58715196e-01]\n",
      " [1.28290651e-01 3.39301895e-01 1.56944417e-01 2.29378093e-01]\n",
      " [1.55487988e-01 3.34057827e-01 3.36219550e-01 5.49035592e-01]\n",
      " [5.90364710e-01 6.08427867e-01 6.63630060e-01 6.08768440e-01]\n",
      " [4.63657003e-02 1.76718294e-03 1.78273219e-02 7.45808316e-02]\n",
      " [0.00000000e+00 0.00000000e+00 0.00000000e+00 0.00000000e+00]\n",
      " [0.00000000e+00 0.00000000e+00 0.00000000e+00 0.00000000e+00]\n",
      " [2.45418519e-03 3.40482311e-02 6.64435465e-02 3.80874948e-03]\n",
      " [9.98407367e-02 8.51786950e-02 1.21179599e-01 1.73964334e-01]\n",
      " [2.42774197e-01 1.06849076e-01 1.32725589e-01 1.17918230e-01]\n",
      " [0.00000000e+00 0.00000000e+00 0.00000000e+00 0.00000000e+00]\n",
      " [4.34108145e-01 5.93517600e-01 7.79180791e-01 4.05465446e-01]\n",
      " [2.02312601e-03 2.21272318e-04 1.22724510e-02 1.11378335e-03]\n",
      " [0.00000000e+00 0.00000000e+00 0.00000000e+00 0.00000000e+00]\n",
      " [1.88573101e-10 1.23221326e-14 0.00000000e+00 3.06684072e-06]\n",
      " [3.44202101e-05 7.95477146e-07 2.54711749e-02 6.48581775e-03]\n",
      " [0.00000000e+00 0.00000000e+00 0.00000000e+00 0.00000000e+00]\n",
      " [1.74196171e-01 6.54736585e-02 1.13101391e-01 2.14390218e-02]\n",
      " [0.00000000e+00 0.00000000e+00 0.00000000e+00 0.00000000e+00]\n",
      " [6.33552152e-01 4.86317257e-01 8.73627049e-01 5.80850048e-01]\n",
      " [2.44365323e-04 6.28733203e-05 3.23417077e-05 3.47301857e-04]\n",
      " [1.55843521e-08 9.88215867e-05 1.55855606e-09 3.17440015e-05]\n",
      " [1.38295540e-13 1.71430092e-09 0.00000000e+00 1.21989113e-15]\n",
      " [0.00000000e+00 0.00000000e+00 0.00000000e+00 0.00000000e+00]\n",
      " [8.50422779e-03 1.00402612e-01 1.18807737e-02 1.24526830e-02]\n",
      " [6.57690896e-02 4.93258880e-02 8.61444465e-02 3.17388591e-01]\n",
      " [5.87724515e-02 8.40393325e-02 6.42722338e-01 2.55610000e-01]\n",
      " [0.00000000e+00 0.00000000e+00 0.00000000e+00 0.00000000e+00]] \n",
      "\n",
      "\n",
      "Test success rate = 83%\n"
     ]
    }
   ],
   "source": [
    "print(\"\\nQ_table : \\n\\n\",Q_table,\"\\n\\n\")\n",
    "print(f\"Test success rate = {k}%\")"
   ]
  },
  {
   "cell_type": "code",
   "execution_count": 44,
   "metadata": {},
   "outputs": [
    {
     "data": {
      "image/png": "[encoded data removed]",
      "text/plain": [
       "<Figure size 1200x500 with 1 Axes>"
      ]
     },
     "metadata": {},
     "output_type": "display_data"
    }
   ],
   "source": [
    "# Plot outcomes\n",
    "plt.figure(figsize=(12, 5))\n",
    "plt.xlabel(\"Run number\")\n",
    "plt.ylabel(\"Outcome\")\n",
    "ax = plt.gca()\n",
    "ax.set_facecolor('#efeeea')\n",
    "plt.bar(range(len(outcomes)), outcomes, color=\"#0A047A\", width=1.0)\n",
    "plt.show()"
   ]
  }
 ],
 "metadata": {
  "kernelspec": {
   "display_name": "Python 3",
   "language": "python",
   "name": "python3"
  },
  "language_info": {
   "codemirror_mode": {
    "name": "ipython",
    "version": 3
   },
   "file_extension": ".py",
   "mimetype": "text/x-python",
   "name": "python",
   "nbconvert_exporter": "python",
   "pygments_lexer": "ipython3",
   "version": "3.11.8"
  }
 },
 "nbformat": 4,
 "nbformat_minor": 2
}
