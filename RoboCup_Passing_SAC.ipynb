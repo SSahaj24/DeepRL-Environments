{
 "cells": [
  {
   "cell_type": "code",
   "execution_count": null,
   "metadata": {},
   "outputs": [],
   "source": [
    "import gymnasium as gym\n",
    "import rsoccer_gym\n",
    "import numpy as np\n",
    "import time\n",
    "\n",
    "from stable_baselines3 import SAC\n",
    "from stable_baselines3.common.noise import NormalActionNoise, OrnsteinUhlenbeckActionNoise\n"
   ]
  },
  {
   "cell_type": "code",
   "execution_count": null,
   "metadata": {},
   "outputs": [],
   "source": [
    "# Training loop, run only if necessary\n",
    "\n",
    "env = gym.make('SSLPassEndurance-v0', render_mode=\"human\")\n",
    "\n",
    "env.reset()\n",
    "# model = SAC.load(\"sac_passendurance\", env = env)\n",
    "model=SAC(\"MlpPolicy\", env, gamma=0.99,learning_rate=0.001041801198827277,\n",
    "          batch_size=256, buffer_size=100000, learning_starts=1000, train_freq=16, tau=0.001, \n",
    "          policy_kwargs = dict(net_arch=[256, 256], log_std_init=-2.5767983503810603), tensorboard_log=\"./sac_passendurance_log/\", verbose=1)\n",
    "\n",
    "n_actions = env.action_space.shape[-1]\n",
    "action_noise = NormalActionNoise(mean=np.zeros(n_actions), sigma=0.05*np.ones(n_actions))\n",
    "\n",
    "model.action_noise = action_noise\n",
    "model.gamma=0.95\n",
    "model.buffer_size=10000\n",
    "model.learning_starts=1000\n",
    "model.policy_kwargs=dict(net_arch=[64,64], log_std_init=-3.5523078631660074)\n",
    "model.batch_size=128\n",
    "model.tau=0.08\n",
    "model.learning_rate = 0.0026216667313800524,\n",
    "\"\"\"model.learning_rate=0.0001 \"\"\"\n",
    "\"\"\" model.batch_size=32 \"\"\"\n",
    "\"\"\" model.tau=0.001 \"\"\"\n",
    "vec_env = model.get_env()\n",
    "model.learn(total_timesteps=250000, log_interval=10)\n",
    "\"\"\" model.ent_coef='auto'\n",
    "model.save(\"sac_passendurance\") \"\"\"\n"
   ]
  },
  {
   "cell_type": "code",
   "execution_count": null,
   "metadata": {},
   "outputs": [],
   "source": [
    "model.ent_coef='auto'\n",
    "model.save(\"sac_passendurance\")\n"
   ]
  },
  {
   "cell_type": "code",
   "execution_count": null,
   "metadata": {},
   "outputs": [],
   "source": [
    "env = gym.make('SSLPassEndurance-v0', render_mode=\"human\")\n",
    "env.reset()\n",
    "\n",
    "model = SAC.load(\"sac_passendurance\", env = env)\n",
    "\n",
    "model.ent_coef='auto'\n",
    "model.action_noise=None\n",
    "vec_env = model.get_env()\n",
    "\n",
    "obs = vec_env.reset()\n",
    "\n",
    "for i in range(1000):         \n",
    "    action, _states = model.predict(obs)\n",
    "    print(action)\n",
    "    obs, rewards, dones, info = vec_env.step(action)\n",
    "    env.render()\n",
    "\n"
   ]
  }
 ],
 "metadata": {
  "kernelspec": {
   "display_name": "Python 3",
   "language": "python",
   "name": "python3"
  },
  "language_info": {
   "codemirror_mode": {
    "name": "ipython",
    "version": 3
   },
   "file_extension": ".py",
   "mimetype": "text/x-python",
   "name": "python",
   "nbconvert_exporter": "python",
   "pygments_lexer": "ipython3",
   "version": "3.10.12"
  }
 },
 "nbformat": 4,
 "nbformat_minor": 2
}
